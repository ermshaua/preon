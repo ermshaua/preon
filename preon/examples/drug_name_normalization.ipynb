{
 "cells": [
  {
   "cell_type": "markdown",
   "id": "surprised-capture",
   "metadata": {},
   "source": [
    "# Drug Name Normalization\n",
    "In this notebook, we evaluate our normalizer with three drug name gold standards."
   ]
  },
  {
   "cell_type": "code",
   "execution_count": 1,
   "id": "pregnant-price",
   "metadata": {},
   "outputs": [],
   "source": [
    "import sys\n",
    "sys.path.append('../../')"
   ]
  },
  {
   "cell_type": "code",
   "execution_count": 2,
   "id": "cordless-retro",
   "metadata": {},
   "outputs": [],
   "source": [
    "from preon.normalization import PrecisionOncologyNormalizer\n",
    "from preon.drug import load_ebi_drugs, load_charite_drug_goldstandard, load_database_drug_goldstandard, load_ctg_drug_goldstandard\n",
    "from preon.tests.utils import f1_score"
   ]
  },
  {
   "cell_type": "markdown",
   "id": "electric-limit",
   "metadata": {},
   "source": [
    "Let's first load the reference drug names from EBI and fit the normalizer."
   ]
  },
  {
   "cell_type": "code",
   "execution_count": 3,
   "id": "bright-found",
   "metadata": {},
   "outputs": [],
   "source": [
    "drug_names, chembl_ids = load_ebi_drugs()\n",
    "normalizer = PrecisionOncologyNormalizer().fit(drug_names, chembl_ids)"
   ]
  },
  {
   "cell_type": "markdown",
   "id": "closed-quest",
   "metadata": {},
   "source": [
    "Now, we can evaluate it using the provided provided gold standards."
   ]
  },
  {
   "cell_type": "code",
   "execution_count": 4,
   "id": "parental-jacket",
   "metadata": {},
   "outputs": [],
   "source": [
    "goldstandards = [\n",
    "    (\"charite\", load_charite_drug_goldstandard),\n",
    "    (\"database\", load_database_drug_goldstandard),\n",
    "    (\"ctg\", load_ctg_drug_goldstandard)\n",
    "]"
   ]
  },
  {
   "cell_type": "code",
   "execution_count": 5,
   "id": "ruled-roads",
   "metadata": {},
   "outputs": [
    {
     "name": "stdout",
     "output_type": "stream",
     "text": [
      "charite: f1_score=0.9144050104384134\n",
      "database: f1_score=0.9496402877697843\n",
      "ctg: f1_score=0.9397590361445782\n"
     ]
    }
   ],
   "source": [
    "for dataset_name, load_dataset in goldstandards:\n",
    "    drug_names, chembl_ids = load_dataset()\n",
    "    df_eval = normalizer.evaluate(drug_names, chembl_ids)\n",
    "    print(f\"{dataset_name}: f1_score={f1_score(df_eval)}\")"
   ]
  },
  {
   "cell_type": "code",
   "execution_count": null,
   "id": "white-chuck",
   "metadata": {},
   "outputs": [],
   "source": []
  }
 ],
 "metadata": {
  "kernelspec": {
   "display_name": "Python 3",
   "language": "python",
   "name": "python3"
  },
  "language_info": {
   "codemirror_mode": {
    "name": "ipython",
    "version": 3
   },
   "file_extension": ".py",
   "mimetype": "text/x-python",
   "name": "python",
   "nbconvert_exporter": "python",
   "pygments_lexer": "ipython3",
   "version": "3.8.8"
  }
 },
 "nbformat": 4,
 "nbformat_minor": 5
}
