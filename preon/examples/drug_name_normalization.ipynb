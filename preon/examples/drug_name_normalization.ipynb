{
 "cells": [
  {
   "cell_type": "markdown",
   "id": "surprised-capture",
   "metadata": {},
   "source": [
    "# Drug Name Normalization\n",
    "In this notebook, we evaluate our normalizer with three drug name gold standards and present two use cases."
   ]
  },
  {
   "cell_type": "code",
   "execution_count": 1,
   "id": "pregnant-price",
   "metadata": {},
   "outputs": [],
   "source": [
    "import sys\n",
    "sys.path.append('../../')"
   ]
  },
  {
   "cell_type": "code",
   "execution_count": 2,
   "id": "cordless-retro",
   "metadata": {},
   "outputs": [],
   "source": [
    "from preon.normalization import PrecisionOncologyNormalizer\n",
    "from preon.drug import load_ebi_drugs, load_charite_drug_goldstandard, load_database_drug_goldstandard, load_ctg_drug_goldstandard\n",
    "from preon.tests.utils import f1_score"
   ]
  },
  {
   "cell_type": "code",
   "execution_count": 3,
   "id": "technological-isaac",
   "metadata": {},
   "outputs": [],
   "source": [
    "import pandas as pd\n",
    "import daproli as dp"
   ]
  },
  {
   "cell_type": "markdown",
   "id": "electric-limit",
   "metadata": {},
   "source": [
    "Let's first load the reference drug names from EBI and fit the normalizer."
   ]
  },
  {
   "cell_type": "code",
   "execution_count": 4,
   "id": "bright-found",
   "metadata": {},
   "outputs": [],
   "source": [
    "drug_names, chembl_ids = load_ebi_drugs()\n",
    "normalizer = PrecisionOncologyNormalizer().fit(drug_names, chembl_ids)"
   ]
  },
  {
   "cell_type": "markdown",
   "id": "closed-quest",
   "metadata": {},
   "source": [
    "Now, we can evaluate it using the provided provided gold standards."
   ]
  },
  {
   "cell_type": "code",
   "execution_count": 5,
   "id": "parental-jacket",
   "metadata": {},
   "outputs": [],
   "source": [
    "goldstandards = [\n",
    "    (\"charite\", load_charite_drug_goldstandard),\n",
    "    (\"database\", load_database_drug_goldstandard),\n",
    "    (\"ctg\", load_ctg_drug_goldstandard)\n",
    "]"
   ]
  },
  {
   "cell_type": "code",
   "execution_count": 6,
   "id": "ruled-roads",
   "metadata": {},
   "outputs": [
    {
     "name": "stdout",
     "output_type": "stream",
     "text": [
      "charite: f1_score=0.918918918918919\n",
      "database: f1_score=0.935251798561151\n",
      "ctg: f1_score=0.9341317365269461\n"
     ]
    }
   ],
   "source": [
    "for dataset_name, load_dataset in goldstandards:\n",
    "    drug_names, chembl_ids, _ = load_dataset()\n",
    "    df_eval = normalizer.evaluate(drug_names, chembl_ids)\n",
    "    print(f\"{dataset_name}: f1_score={f1_score(df_eval)}\")"
   ]
  },
  {
   "cell_type": "markdown",
   "id": "tamil-business",
   "metadata": {},
   "source": [
    "# User Search\n",
    "Going on, we demonstrate how to use preon to search for drug names."
   ]
  },
  {
   "cell_type": "code",
   "execution_count": 7,
   "id": "tutorial-bibliography",
   "metadata": {},
   "outputs": [
    {
     "data": {
      "text/plain": "(['avastin'], [['CHEMBL1201583']], {'match_type': 'exact'})"
     },
     "execution_count": 7,
     "metadata": {},
     "output_type": "execute_result"
    }
   ],
   "source": [
    "normalizer.query(\"Avastin\")"
   ]
  },
  {
   "cell_type": "markdown",
   "id": "geographic-weekend",
   "metadata": {},
   "source": [
    "We can simply search for drug names and retrieve their CHEMBL ids by quering the normalizer. As a result for our query, we get list of matching normalized drug names (in this case ['avastin']), a list of associated CHEMBL ids for every returned drug name [['CHEMBL1201583']] and some meta information about the matching {'match_type': 'exact'}. We can also search for multi-token drug names like \"Ixabepilone Epothilone B analog\" and find CHEMBL ids for the relevant tokens."
   ]
  },
  {
   "cell_type": "code",
   "execution_count": 8,
   "id": "civilian-coating",
   "metadata": {},
   "outputs": [
    {
     "data": {
      "text/plain": "(['ixabepilone'], [['CHEMBL1201752']], {'match_type': 'substring'})"
     },
     "execution_count": 8,
     "metadata": {},
     "output_type": "execute_result"
    }
   ],
   "source": [
    "normalizer.query(\"Ixabepilone Epothilone B analog\")"
   ]
  },
  {
   "cell_type": "markdown",
   "id": "numeric-mailman",
   "metadata": {},
   "source": [
    "We find the relevant drug name ['ixabepilone'] and preon provides the meta information that the matching is based on a substring. On default, preon only looks for 1 matching token. It can also look for n-grams by setting the n_grams parameter in the query method. Let's take a harder example, say \"Isavuconazonium\", but misspell it as \"Isavuconaconium\"."
   ]
  },
  {
   "cell_type": "code",
   "execution_count": 9,
   "id": "expensive-nepal",
   "metadata": {},
   "outputs": [
    {
     "data": {
      "text/plain": "(['isavuconazonium'],\n [['CHEMBL1183349']],\n {'match_type': 'partial', 'edit_distance': 0.06666666666666667})"
     },
     "execution_count": 9,
     "metadata": {},
     "output_type": "execute_result"
    }
   ],
   "source": [
    "normalizer.query(\"Isavuconaconium\")"
   ]
  },
  {
   "cell_type": "markdown",
   "id": "synthetic-dominican",
   "metadata": {},
   "source": [
    "preon finds the correct drug \"Isavuconazonium\" and provides the meta information that it is a partial match with 7% distance. It returns drug names with a distance smaller than 20% on default. In order to change this parameter, set the threshold argument in the query method."
   ]
  },
  {
   "cell_type": "markdown",
   "id": "recorded-stephen",
   "metadata": {},
   "source": [
    "# Data Integration\n",
    "We use preon in the PREDICT project to integrate drug names from different sources. Going on, we provide an overview how to do so."
   ]
  },
  {
   "cell_type": "code",
   "execution_count": 10,
   "id": "former-granny",
   "metadata": {},
   "outputs": [],
   "source": [
    "db_names, _, _ = load_database_drug_goldstandard()\n",
    "ch_names, _, _ = load_ctg_drug_goldstandard()"
   ]
  },
  {
   "cell_type": "markdown",
   "id": "running-mattress",
   "metadata": {},
   "source": [
    "Let's say we wanted to integrate the drug names from the database and charite gold standards. We would normalize both lists of names and join on the returned CHEMBL ids."
   ]
  },
  {
   "cell_type": "code",
   "execution_count": 11,
   "id": "paperback-forwarding",
   "metadata": {},
   "outputs": [
    {
     "data": {
      "text/plain": "                    Name     Found Names     Found Name IDs Match Type  \\\n0               LOXO-292       [loxo292]  [[CHEMBL4559134]]      exact   \n1               H3B-8800       [h3b8800]  [[CHEMBL4802174]]      exact   \n2               Tubulins              []           [[None]]       none   \n3   Androgen Deprivation              []           [[None]]       none   \n4              Mitomycin     [mitomycin]      [[CHEMBL105]]      exact   \n..                   ...             ...                ...        ...   \n71           Thioguanine   [thioguanine]      [[CHEMBL727]]      exact   \n72          Lenalidomide  [lenalidomide]      [[CHEMBL848]]      exact   \n73           Gemcitabine   [gemcitabine]      [[CHEMBL888]]      exact   \n74             Gefitinib     [gefitinib]      [[CHEMBL939]]      exact   \n75              Imatinib      [imatinib]      [[CHEMBL941]]      exact   \n\n    Edit Distance  Query Time  \n0             NaN    0.000140  \n1             NaN    0.000083  \n2             NaN    0.113431  \n3             NaN    0.131318  \n4             NaN    0.000087  \n..            ...         ...  \n71            NaN    0.000021  \n72            NaN    0.000021  \n73            NaN    0.000022  \n74            NaN    0.000020  \n75            NaN    0.000022  \n\n[76 rows x 6 columns]",
      "text/html": "<div>\n<style scoped>\n    .dataframe tbody tr th:only-of-type {\n        vertical-align: middle;\n    }\n\n    .dataframe tbody tr th {\n        vertical-align: top;\n    }\n\n    .dataframe thead th {\n        text-align: right;\n    }\n</style>\n<table border=\"1\" class=\"dataframe\">\n  <thead>\n    <tr style=\"text-align: right;\">\n      <th></th>\n      <th>Name</th>\n      <th>Found Names</th>\n      <th>Found Name IDs</th>\n      <th>Match Type</th>\n      <th>Edit Distance</th>\n      <th>Query Time</th>\n    </tr>\n  </thead>\n  <tbody>\n    <tr>\n      <th>0</th>\n      <td>LOXO-292</td>\n      <td>[loxo292]</td>\n      <td>[[CHEMBL4559134]]</td>\n      <td>exact</td>\n      <td>NaN</td>\n      <td>0.000140</td>\n    </tr>\n    <tr>\n      <th>1</th>\n      <td>H3B-8800</td>\n      <td>[h3b8800]</td>\n      <td>[[CHEMBL4802174]]</td>\n      <td>exact</td>\n      <td>NaN</td>\n      <td>0.000083</td>\n    </tr>\n    <tr>\n      <th>2</th>\n      <td>Tubulins</td>\n      <td>[]</td>\n      <td>[[None]]</td>\n      <td>none</td>\n      <td>NaN</td>\n      <td>0.113431</td>\n    </tr>\n    <tr>\n      <th>3</th>\n      <td>Androgen Deprivation</td>\n      <td>[]</td>\n      <td>[[None]]</td>\n      <td>none</td>\n      <td>NaN</td>\n      <td>0.131318</td>\n    </tr>\n    <tr>\n      <th>4</th>\n      <td>Mitomycin</td>\n      <td>[mitomycin]</td>\n      <td>[[CHEMBL105]]</td>\n      <td>exact</td>\n      <td>NaN</td>\n      <td>0.000087</td>\n    </tr>\n    <tr>\n      <th>...</th>\n      <td>...</td>\n      <td>...</td>\n      <td>...</td>\n      <td>...</td>\n      <td>...</td>\n      <td>...</td>\n    </tr>\n    <tr>\n      <th>71</th>\n      <td>Thioguanine</td>\n      <td>[thioguanine]</td>\n      <td>[[CHEMBL727]]</td>\n      <td>exact</td>\n      <td>NaN</td>\n      <td>0.000021</td>\n    </tr>\n    <tr>\n      <th>72</th>\n      <td>Lenalidomide</td>\n      <td>[lenalidomide]</td>\n      <td>[[CHEMBL848]]</td>\n      <td>exact</td>\n      <td>NaN</td>\n      <td>0.000021</td>\n    </tr>\n    <tr>\n      <th>73</th>\n      <td>Gemcitabine</td>\n      <td>[gemcitabine]</td>\n      <td>[[CHEMBL888]]</td>\n      <td>exact</td>\n      <td>NaN</td>\n      <td>0.000022</td>\n    </tr>\n    <tr>\n      <th>74</th>\n      <td>Gefitinib</td>\n      <td>[gefitinib]</td>\n      <td>[[CHEMBL939]]</td>\n      <td>exact</td>\n      <td>NaN</td>\n      <td>0.000020</td>\n    </tr>\n    <tr>\n      <th>75</th>\n      <td>Imatinib</td>\n      <td>[imatinib]</td>\n      <td>[[CHEMBL941]]</td>\n      <td>exact</td>\n      <td>NaN</td>\n      <td>0.000022</td>\n    </tr>\n  </tbody>\n</table>\n<p>76 rows × 6 columns</p>\n</div>"
     },
     "execution_count": 11,
     "metadata": {},
     "output_type": "execute_result"
    }
   ],
   "source": [
    "normalizer.transform(db_names)"
   ]
  },
  {
   "cell_type": "markdown",
   "id": "ceramic-quilt",
   "metadata": {},
   "source": [
    "Using the transform method, preon returns a comprehensive pandas dataframe that contains the corresponding annotations. Let's normalize the drug names from both gold standards."
   ]
  },
  {
   "cell_type": "code",
   "execution_count": 12,
   "id": "scheduled-accused",
   "metadata": {},
   "outputs": [],
   "source": [
    "db_df = normalizer.transform(db_names)\n",
    "db_df[\"Found Name IDs\"] = db_df[\"Found Name IDs\"].apply(dp.flatten).apply(lambda ids: ids[0])\n",
    "\n",
    "ch_df = normalizer.transform(ch_names)\n",
    "ch_df[\"Found Name IDs\"] = ch_df[\"Found Name IDs\"].apply(dp.flatten).apply(lambda ids: ids[0])"
   ]
  },
  {
   "cell_type": "markdown",
   "id": "compound-persian",
   "metadata": {},
   "source": [
    "We can now extract and relate the query drug names with the found CHEMBL ids from both sources. "
   ]
  },
  {
   "cell_type": "code",
   "execution_count": 13,
   "id": "sixth-clear",
   "metadata": {},
   "outputs": [],
   "source": [
    "db_names, db_ids = db_df.Name.tolist(), db_df[\"Found Name IDs\"].tolist()\n",
    "ch_names, ch_ids = ch_df.Name.tolist(), ch_df[\"Found Name IDs\"].tolist()"
   ]
  }
 ],
 "metadata": {
  "kernelspec": {
   "display_name": "Python 3",
   "language": "python",
   "name": "python3"
  },
  "language_info": {
   "codemirror_mode": {
    "name": "ipython",
    "version": 3
   },
   "file_extension": ".py",
   "mimetype": "text/x-python",
   "name": "python",
   "nbconvert_exporter": "python",
   "pygments_lexer": "ipython3",
   "version": "3.8.8"
  }
 },
 "nbformat": 4,
 "nbformat_minor": 5
}