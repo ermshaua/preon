{
 "cells": [
  {
   "cell_type": "markdown",
   "id": "surprised-capture",
   "metadata": {},
   "source": [
    "# Drug Name Normalization\n",
    "In this notebook, we evaluate our normalizer with three drug name gold standards and present two use cases."
   ]
  },
  {
   "cell_type": "code",
   "execution_count": 96,
   "id": "pregnant-price",
   "metadata": {
    "ExecuteTime": {
     "end_time": "2023-12-11T15:34:15.459870Z",
     "start_time": "2023-12-11T15:34:15.399644Z"
    }
   },
   "outputs": [],
   "source": [
    "import sys\n",
    "sys.path.append('../../')"
   ]
  },
  {
   "cell_type": "code",
   "execution_count": 97,
   "id": "cordless-retro",
   "metadata": {
    "ExecuteTime": {
     "end_time": "2023-12-11T15:34:15.461878Z",
     "start_time": "2023-12-11T15:34:15.403235Z"
    }
   },
   "outputs": [],
   "source": [
    "import logging\n",
    "from preon.normalization import PrecisionOncologyNormalizer\n",
    "from preon.drug import load_ebi_drugs, load_charite_drug_goldstandard, load_database_drug_goldstandard, load_ctg_drug_goldstandard\n",
    "from preon.tests.utils import f1_score"
   ]
  },
  {
   "cell_type": "code",
   "execution_count": 98,
   "id": "technological-isaac",
   "metadata": {
    "ExecuteTime": {
     "end_time": "2023-12-11T15:34:15.461941Z",
     "start_time": "2023-12-11T15:34:15.406950Z"
    }
   },
   "outputs": [],
   "source": [
    "import pandas as pd\n",
    "import daproli as dp"
   ]
  },
  {
   "cell_type": "markdown",
   "id": "electric-limit",
   "metadata": {},
   "source": [
    "Let's first load the reference drug names from EBI and fit the normalizer."
   ]
  },
  {
   "cell_type": "code",
   "execution_count": 99,
   "id": "bright-found",
   "metadata": {
    "ExecuteTime": {
     "end_time": "2023-12-11T15:34:19.896804Z",
     "start_time": "2023-12-11T15:34:15.409663Z"
    }
   },
   "outputs": [],
   "source": [
    "drug_names, chembl_ids = load_ebi_drugs()\n",
    "normalizer = PrecisionOncologyNormalizer(enable_warnings=False).fit(drug_names, chembl_ids)"
   ]
  },
  {
   "cell_type": "markdown",
   "id": "closed-quest",
   "metadata": {},
   "source": [
    "Now, we can evaluate it using the provided provided gold standards."
   ]
  },
  {
   "cell_type": "code",
   "execution_count": 100,
   "id": "parental-jacket",
   "metadata": {
    "ExecuteTime": {
     "end_time": "2023-12-11T15:34:19.902258Z",
     "start_time": "2023-12-11T15:34:19.897769Z"
    }
   },
   "outputs": [],
   "source": [
    "goldstandards = [\n",
    "    (\"charite\", load_charite_drug_goldstandard),\n",
    "    (\"database\", load_database_drug_goldstandard),\n",
    "    (\"ctg\", load_ctg_drug_goldstandard)\n",
    "]"
   ]
  },
  {
   "cell_type": "code",
   "execution_count": 101,
   "id": "ruled-roads",
   "metadata": {
    "ExecuteTime": {
     "end_time": "2023-12-11T15:34:30.965658Z",
     "start_time": "2023-12-11T15:34:19.900482Z"
    }
   },
   "outputs": [
    {
     "name": "stdout",
     "output_type": "stream",
     "text": [
      "charite: f1_score=0.9144050104384134\n",
      "database: f1_score=0.9275362318840579\n",
      "ctg: f1_score=0.9285714285714286\n"
     ]
    }
   ],
   "source": [
    "for dataset_name, load_dataset in goldstandards:\n",
    "    drug_names, chembl_ids, _ = load_dataset()\n",
    "    df_eval = normalizer.evaluate(drug_names, chembl_ids)\n",
    "    print(f\"{dataset_name}: f1_score={f1_score(df_eval)}\")"
   ]
  },
  {
   "cell_type": "markdown",
   "id": "tamil-business",
   "metadata": {},
   "source": [
    "# User Search\n",
    "Going on, we demonstrate how to use preon to search for drug names."
   ]
  },
  {
   "cell_type": "code",
   "execution_count": 102,
   "outputs": [],
   "source": [
    "# print warnings (default)\n",
    "logging.captureWarnings(False)"
   ],
   "metadata": {
    "collapsed": false,
    "ExecuteTime": {
     "end_time": "2023-12-11T15:34:30.965800Z",
     "start_time": "2023-12-11T15:34:30.962543Z"
    }
   },
   "id": "cde174d87ed0298c"
  },
  {
   "cell_type": "code",
   "execution_count": 103,
   "outputs": [],
   "source": [
    "drug_names, chembl_ids = load_ebi_drugs()\n",
    "normalizer = PrecisionOncologyNormalizer().fit(drug_names, chembl_ids)"
   ],
   "metadata": {
    "collapsed": false,
    "ExecuteTime": {
     "end_time": "2023-12-11T15:34:35.044691Z",
     "start_time": "2023-12-11T15:34:30.965168Z"
    }
   },
   "id": "9a02729712a55d1c"
  },
  {
   "cell_type": "code",
   "execution_count": 104,
   "id": "tutorial-bibliography",
   "metadata": {
    "ExecuteTime": {
     "end_time": "2023-12-11T15:34:35.049748Z",
     "start_time": "2023-12-11T15:34:35.045608Z"
    }
   },
   "outputs": [
    {
     "data": {
      "text/plain": "(['avastin'], [['CHEMBL1201583']], {'match_type': 'exact'})"
     },
     "execution_count": 104,
     "metadata": {},
     "output_type": "execute_result"
    }
   ],
   "source": [
    "normalizer.query(\"Avastin\")"
   ]
  },
  {
   "cell_type": "markdown",
   "id": "geographic-weekend",
   "metadata": {},
   "source": [
    "We can simply search for drug names and retrieve their CHEMBL ids by quering the normalizer. As a result for our query, we get list of matching normalized drug names (in this case ['avastin']), a list of associated CHEMBL ids for every returned drug name [['CHEMBL1201583']] and some meta information about the matching {'match_type': 'exact'}. We can also search for multi-token drug names like \"Ixabepilone Epothilone B analog\" and find CHEMBL ids for the relevant tokens."
   ]
  },
  {
   "cell_type": "code",
   "execution_count": 105,
   "id": "civilian-coating",
   "metadata": {
    "ExecuteTime": {
     "end_time": "2023-12-11T15:34:35.051179Z",
     "start_time": "2023-12-11T15:34:35.048608Z"
    }
   },
   "outputs": [
    {
     "data": {
      "text/plain": "(['ixabepilone'], [['CHEMBL1201752']], {'match_type': 'substring'})"
     },
     "execution_count": 105,
     "metadata": {},
     "output_type": "execute_result"
    }
   ],
   "source": [
    "normalizer.query(\"Ixabepilone Epothilone B analog\")"
   ]
  },
  {
   "cell_type": "markdown",
   "id": "numeric-mailman",
   "metadata": {},
   "source": [
    "We find the relevant drug name ['ixabepilone'] and preon provides the meta information that the matching is based on a substring. On default, preon only looks for 1 matching token. It can also look for n-grams by setting the n_grams parameter in the query method. Let's take a harder example, say \"Isavuconazonium\", but misspell it as \"Isavuconaconium\"."
   ]
  },
  {
   "cell_type": "code",
   "execution_count": 106,
   "id": "expensive-nepal",
   "metadata": {
    "ExecuteTime": {
     "end_time": "2023-12-11T15:34:35.247586Z",
     "start_time": "2023-12-11T15:34:35.057027Z"
    }
   },
   "outputs": [
    {
     "data": {
      "text/plain": "(['isavuconazonium'],\n [['CHEMBL1183349']],\n {'match_type': 'partial', 'edit_distance': 0.067})"
     },
     "execution_count": 106,
     "metadata": {},
     "output_type": "execute_result"
    }
   ],
   "source": [
    "normalizer.query(\"Isavuconaconium\")"
   ]
  },
  {
   "cell_type": "markdown",
   "id": "synthetic-dominican",
   "metadata": {},
   "source": [
    "preon finds the correct drug \"Isavuconazonium\" and provides the meta information that it is a partial match with 7% distance. It returns drug names with a distance smaller than 20% on default. In order to change this parameter, set the threshold argument in the query method."
   ]
  },
  {
   "cell_type": "code",
   "execution_count": 107,
   "outputs": [
    {
     "name": "stderr",
     "output_type": "stream",
     "text": [
      "/Users/ermshaua/Documents/Git/public/preon/preon/normalization.py:50: UserWarning: Cannot match risolipase en. to reference data. Try changing the partial matching threshold or number of n-grams.\n",
      "  warnings.warn(\n"
     ]
    }
   ],
   "source": [
    "normalizer.query(\"risolipase en.\")"
   ],
   "metadata": {
    "collapsed": false,
    "ExecuteTime": {
     "end_time": "2023-12-11T15:34:35.397891Z",
     "start_time": "2023-12-11T15:34:35.284677Z"
    }
   },
   "id": "f2efb87891c08847"
  },
  {
   "cell_type": "markdown",
   "source": [
    "If preon cannot find a match, it warns the user and suggests hyper-parameter changes. In this case, we increase the partial matching threshold to 30% and get a valid result."
   ],
   "metadata": {
    "collapsed": false
   },
   "id": "845c2546a64d911f"
  },
  {
   "cell_type": "code",
   "execution_count": 108,
   "outputs": [
    {
     "data": {
      "text/plain": "(['rizolipase'],\n [['CHEMBL2108124']],\n {'match_type': 'partial', 'edit_distance': 0.25})"
     },
     "execution_count": 108,
     "metadata": {},
     "output_type": "execute_result"
    }
   ],
   "source": [
    "normalizer.query(\"risolipase en.\", threshold=.3)"
   ],
   "metadata": {
    "collapsed": false,
    "ExecuteTime": {
     "end_time": "2023-12-11T15:34:35.575162Z",
     "start_time": "2023-12-11T15:34:35.470123Z"
    }
   },
   "id": "ef7c2dc76a65c3e7"
  },
  {
   "cell_type": "markdown",
   "id": "recorded-stephen",
   "metadata": {},
   "source": [
    "# Data Integration\n",
    "We use preon in the PREDICT project to integrate drug names from different sources. Going on, we provide an overview how to do so. For this example, we write issued warnings to a log file for inspection."
   ]
  },
  {
   "cell_type": "code",
   "execution_count": 109,
   "outputs": [],
   "source": [
    "# store warnings in file\n",
    "logging.basicConfig(filename='warnings.log', level=logging.WARNING)\n",
    "logging.captureWarnings(True)"
   ],
   "metadata": {
    "collapsed": false,
    "ExecuteTime": {
     "end_time": "2023-12-11T15:34:35.575365Z",
     "start_time": "2023-12-11T15:34:35.572642Z"
    }
   },
   "id": "94b14fbdaabfccdf"
  },
  {
   "cell_type": "code",
   "execution_count": 110,
   "outputs": [],
   "source": [
    "drug_names, chembl_ids = load_ebi_drugs()\n",
    "normalizer = PrecisionOncologyNormalizer().fit(drug_names, chembl_ids)"
   ],
   "metadata": {
    "collapsed": false,
    "ExecuteTime": {
     "end_time": "2023-12-11T15:34:39.596121Z",
     "start_time": "2023-12-11T15:34:35.575283Z"
    }
   },
   "id": "be3ebb34def3024"
  },
  {
   "cell_type": "code",
   "execution_count": 111,
   "id": "former-granny",
   "metadata": {
    "ExecuteTime": {
     "end_time": "2023-12-11T15:34:39.601794Z",
     "start_time": "2023-12-11T15:34:39.597371Z"
    }
   },
   "outputs": [],
   "source": [
    "db_names, _, _ = load_database_drug_goldstandard()\n",
    "ch_names, _, _ = load_ctg_drug_goldstandard()"
   ]
  },
  {
   "cell_type": "markdown",
   "id": "running-mattress",
   "metadata": {},
   "source": [
    "Let's say we wanted to integrate the drug names from the database and charite gold standards. We would normalize both lists of names and join on the returned CHEMBL ids."
   ]
  },
  {
   "cell_type": "code",
   "execution_count": 112,
   "id": "paperback-forwarding",
   "metadata": {
    "ExecuteTime": {
     "end_time": "2023-12-11T15:34:41.045441Z",
     "start_time": "2023-12-11T15:34:39.615040Z"
    }
   },
   "outputs": [
    {
     "data": {
      "text/plain": "                    Name     Found Names     Found Name IDs Match Type  \\\n0               LOXO-292       [loxo292]  [[CHEMBL4559134]]      exact   \n1               H3B-8800       [h3b8800]  [[CHEMBL4802174]]      exact   \n2               Tubulins              []           [[None]]       none   \n3   Androgen Deprivation              []           [[None]]       none   \n4              Mitomycin     [mitomycin]      [[CHEMBL105]]      exact   \n..                   ...             ...                ...        ...   \n71           Thioguanine   [thioguanine]      [[CHEMBL727]]      exact   \n72          Lenalidomide  [lenalidomide]      [[CHEMBL848]]      exact   \n73           Gemcitabine   [gemcitabine]      [[CHEMBL888]]      exact   \n74             Gefitinib     [gefitinib]      [[CHEMBL939]]      exact   \n75              Imatinib      [imatinib]      [[CHEMBL941]]      exact   \n\n    Edit Distance  Query Time  \n0             NaN    0.000044  \n1             NaN    0.000026  \n2             NaN    0.109484  \n3             NaN    0.199025  \n4             NaN    0.000047  \n..            ...         ...  \n71            NaN    0.000007  \n72            NaN    0.000008  \n73            NaN    0.000008  \n74            NaN    0.000008  \n75            NaN    0.000008  \n\n[76 rows x 6 columns]",
      "text/html": "<div>\n<style scoped>\n    .dataframe tbody tr th:only-of-type {\n        vertical-align: middle;\n    }\n\n    .dataframe tbody tr th {\n        vertical-align: top;\n    }\n\n    .dataframe thead th {\n        text-align: right;\n    }\n</style>\n<table border=\"1\" class=\"dataframe\">\n  <thead>\n    <tr style=\"text-align: right;\">\n      <th></th>\n      <th>Name</th>\n      <th>Found Names</th>\n      <th>Found Name IDs</th>\n      <th>Match Type</th>\n      <th>Edit Distance</th>\n      <th>Query Time</th>\n    </tr>\n  </thead>\n  <tbody>\n    <tr>\n      <th>0</th>\n      <td>LOXO-292</td>\n      <td>[loxo292]</td>\n      <td>[[CHEMBL4559134]]</td>\n      <td>exact</td>\n      <td>NaN</td>\n      <td>0.000044</td>\n    </tr>\n    <tr>\n      <th>1</th>\n      <td>H3B-8800</td>\n      <td>[h3b8800]</td>\n      <td>[[CHEMBL4802174]]</td>\n      <td>exact</td>\n      <td>NaN</td>\n      <td>0.000026</td>\n    </tr>\n    <tr>\n      <th>2</th>\n      <td>Tubulins</td>\n      <td>[]</td>\n      <td>[[None]]</td>\n      <td>none</td>\n      <td>NaN</td>\n      <td>0.109484</td>\n    </tr>\n    <tr>\n      <th>3</th>\n      <td>Androgen Deprivation</td>\n      <td>[]</td>\n      <td>[[None]]</td>\n      <td>none</td>\n      <td>NaN</td>\n      <td>0.199025</td>\n    </tr>\n    <tr>\n      <th>4</th>\n      <td>Mitomycin</td>\n      <td>[mitomycin]</td>\n      <td>[[CHEMBL105]]</td>\n      <td>exact</td>\n      <td>NaN</td>\n      <td>0.000047</td>\n    </tr>\n    <tr>\n      <th>...</th>\n      <td>...</td>\n      <td>...</td>\n      <td>...</td>\n      <td>...</td>\n      <td>...</td>\n      <td>...</td>\n    </tr>\n    <tr>\n      <th>71</th>\n      <td>Thioguanine</td>\n      <td>[thioguanine]</td>\n      <td>[[CHEMBL727]]</td>\n      <td>exact</td>\n      <td>NaN</td>\n      <td>0.000007</td>\n    </tr>\n    <tr>\n      <th>72</th>\n      <td>Lenalidomide</td>\n      <td>[lenalidomide]</td>\n      <td>[[CHEMBL848]]</td>\n      <td>exact</td>\n      <td>NaN</td>\n      <td>0.000008</td>\n    </tr>\n    <tr>\n      <th>73</th>\n      <td>Gemcitabine</td>\n      <td>[gemcitabine]</td>\n      <td>[[CHEMBL888]]</td>\n      <td>exact</td>\n      <td>NaN</td>\n      <td>0.000008</td>\n    </tr>\n    <tr>\n      <th>74</th>\n      <td>Gefitinib</td>\n      <td>[gefitinib]</td>\n      <td>[[CHEMBL939]]</td>\n      <td>exact</td>\n      <td>NaN</td>\n      <td>0.000008</td>\n    </tr>\n    <tr>\n      <th>75</th>\n      <td>Imatinib</td>\n      <td>[imatinib]</td>\n      <td>[[CHEMBL941]]</td>\n      <td>exact</td>\n      <td>NaN</td>\n      <td>0.000008</td>\n    </tr>\n  </tbody>\n</table>\n<p>76 rows × 6 columns</p>\n</div>"
     },
     "execution_count": 112,
     "metadata": {},
     "output_type": "execute_result"
    }
   ],
   "source": [
    "normalizer.transform(db_names)"
   ]
  },
  {
   "cell_type": "markdown",
   "id": "ceramic-quilt",
   "metadata": {},
   "source": [
    "Using the transform method, preon returns a comprehensive pandas dataframe that contains the corresponding annotations. Let's normalize the drug names from both gold standards."
   ]
  },
  {
   "cell_type": "code",
   "execution_count": 113,
   "id": "scheduled-accused",
   "metadata": {
    "ExecuteTime": {
     "end_time": "2023-12-11T15:34:44.992757Z",
     "start_time": "2023-12-11T15:34:41.121032Z"
    }
   },
   "outputs": [],
   "source": [
    "db_df = normalizer.transform(db_names)\n",
    "db_df[\"Found Name IDs\"] = db_df[\"Found Name IDs\"].apply(dp.flatten).apply(lambda ids: ids[0])\n",
    "\n",
    "ch_df = normalizer.transform(ch_names)\n",
    "ch_df[\"Found Name IDs\"] = ch_df[\"Found Name IDs\"].apply(dp.flatten).apply(lambda ids: ids[0])"
   ]
  },
  {
   "cell_type": "markdown",
   "id": "compound-persian",
   "metadata": {},
   "source": [
    "We can now extract and relate the query drug names with the found CHEMBL ids from both sources. "
   ]
  },
  {
   "cell_type": "code",
   "execution_count": 114,
   "id": "sixth-clear",
   "metadata": {
    "ExecuteTime": {
     "end_time": "2023-12-11T15:34:45.011491Z",
     "start_time": "2023-12-11T15:34:45.008135Z"
    }
   },
   "outputs": [],
   "source": [
    "db_names, db_ids = db_df.Name.tolist(), db_df[\"Found Name IDs\"].tolist()\n",
    "ch_names, ch_ids = ch_df.Name.tolist(), ch_df[\"Found Name IDs\"].tolist()"
   ]
  }
 ],
 "metadata": {
  "kernelspec": {
   "display_name": "Python 3 (ipykernel)",
   "language": "python",
   "name": "python3"
  },
  "language_info": {
   "codemirror_mode": {
    "name": "ipython",
    "version": 3
   },
   "file_extension": ".py",
   "mimetype": "text/x-python",
   "name": "python",
   "nbconvert_exporter": "python",
   "pygments_lexer": "ipython3",
   "version": "3.8.12"
  }
 },
 "nbformat": 4,
 "nbformat_minor": 5
}
