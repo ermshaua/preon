{
 "cells": [
  {
   "cell_type": "markdown",
   "id": "reduced-economy",
   "metadata": {},
   "source": [
    "# Cancer Type Normalization\n",
    "In this notebook, we evaluate our normalizer with two cancer type gold standards."
   ]
  },
  {
   "cell_type": "code",
   "execution_count": 1,
   "id": "native-jurisdiction",
   "metadata": {},
   "outputs": [],
   "source": [
    "import sys\n",
    "sys.path.append('../../')"
   ]
  },
  {
   "cell_type": "code",
   "execution_count": 2,
   "id": "figured-parish",
   "metadata": {},
   "outputs": [],
   "source": [
    "from preon.normalization import PrecisionOncologyNormalizer\n",
    "from preon.cancer import load_do_cancers, load_do_flat_mapping, apply_do_flat_mapping_to_ontology, apply_do_flat_mapping_to_goldstandard, \\\n",
    "    load_database_cancer_goldstandard, load_ncbi_cancer_goldstandard\n",
    "from preon.tests.utils import f1_score"
   ]
  },
  {
   "cell_type": "markdown",
   "id": "lovely-emergency",
   "metadata": {},
   "source": [
    "Let's first load the reference cancer types from Disease Ontology and fit the normalizer."
   ]
  },
  {
   "cell_type": "code",
   "execution_count": 3,
   "id": "pediatric-cross",
   "metadata": {},
   "outputs": [],
   "source": [
    "cancer_types, doids = load_do_cancers()\n",
    "\n",
    "# reduce the cancer type hierachy to just two levels\n",
    "do_flat_mapping = load_do_flat_mapping()\n",
    "cancer_types, doids = apply_do_flat_mapping_to_ontology(cancer_types, doids, do_flat_mapping)\n",
    "\n",
    "normalizer = PrecisionOncologyNormalizer().fit(cancer_types, doids)"
   ]
  },
  {
   "cell_type": "markdown",
   "id": "bibliographic-front",
   "metadata": {},
   "source": [
    "Now, we can evaluate it using the provided provided gold standards."
   ]
  },
  {
   "cell_type": "code",
   "execution_count": 4,
   "id": "sized-parallel",
   "metadata": {},
   "outputs": [],
   "source": [
    "goldstandards = [\n",
    "    (\"database\", load_database_cancer_goldstandard),\n",
    "    (\"ncbi\", load_ncbi_cancer_goldstandard)\n",
    "]"
   ]
  },
  {
   "cell_type": "code",
   "execution_count": 5,
   "id": "mighty-damages",
   "metadata": {},
   "outputs": [
    {
     "name": "stdout",
     "output_type": "stream",
     "text": [
      "database: f1_score=0.934131736526946\n",
      "ncbi: f1_score=0.8208955223880596\n"
     ]
    }
   ],
   "source": [
    "for dataset_name, load_dataset in goldstandards:\n",
    "    cancer_types, doids = load_dataset()\n",
    "    \n",
    "    # reduce cancer type hierachy in gold standard as well\n",
    "    cancer_types, doids = apply_do_flat_mapping_to_goldstandard(cancer_types, doids, do_flat_mapping)\n",
    "    \n",
    "    df_eval = normalizer.evaluate(cancer_types, doids, n_grams=3)\n",
    "    print(f\"{dataset_name}: f1_score={f1_score(df_eval)}\")"
   ]
  },
  {
   "cell_type": "code",
   "execution_count": null,
   "id": "proper-still",
   "metadata": {},
   "outputs": [],
   "source": []
  }
 ],
 "metadata": {
  "kernelspec": {
   "display_name": "Python 3",
   "language": "python",
   "name": "python3"
  },
  "language_info": {
   "codemirror_mode": {
    "name": "ipython",
    "version": 3
   },
   "file_extension": ".py",
   "mimetype": "text/x-python",
   "name": "python",
   "nbconvert_exporter": "python",
   "pygments_lexer": "ipython3",
   "version": "3.8.8"
  }
 },
 "nbformat": 4,
 "nbformat_minor": 5
}
