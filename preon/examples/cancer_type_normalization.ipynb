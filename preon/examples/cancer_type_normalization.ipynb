{
 "cells": [
  {
   "cell_type": "markdown",
   "id": "reduced-economy",
   "metadata": {},
   "source": [
    "# Cancer Type Normalization\n",
    "In this notebook, we evaluate our normalizer with two cancer type gold standards and present two usecases."
   ]
  },
  {
   "cell_type": "code",
   "execution_count": 62,
   "id": "native-jurisdiction",
   "metadata": {
    "ExecuteTime": {
     "end_time": "2023-12-11T15:35:12.732114Z",
     "start_time": "2023-12-11T15:35:12.685484Z"
    }
   },
   "outputs": [],
   "source": [
    "import sys\n",
    "sys.path.append('../../')"
   ]
  },
  {
   "cell_type": "code",
   "execution_count": 63,
   "id": "figured-parish",
   "metadata": {
    "ExecuteTime": {
     "end_time": "2023-12-11T15:35:12.735538Z",
     "start_time": "2023-12-11T15:35:12.689812Z"
    }
   },
   "outputs": [],
   "source": [
    "import logging\n",
    "from preon.normalization import PrecisionOncologyNormalizer\n",
    "from preon.cancer import download_or_load_do_cancers, load_do_flat_mapping, apply_do_flat_mapping_to_ontology, apply_do_flat_mapping_to_goldstandard, \\\n",
    "    load_database_cancer_goldstandard, load_ncbi_cancer_goldstandard\n",
    "from preon.tests.utils import f1_score"
   ]
  },
  {
   "cell_type": "code",
   "execution_count": 64,
   "id": "younger-opinion",
   "metadata": {
    "ExecuteTime": {
     "end_time": "2023-12-11T15:35:12.736684Z",
     "start_time": "2023-12-11T15:35:12.693143Z"
    }
   },
   "outputs": [],
   "source": [
    "import pandas as pd\n",
    "import daproli as dp"
   ]
  },
  {
   "cell_type": "markdown",
   "id": "lovely-emergency",
   "metadata": {},
   "source": [
    "Let's first load the reference cancer types from Disease Ontology and fit the normalizer."
   ]
  },
  {
   "cell_type": "code",
   "execution_count": 65,
   "id": "pediatric-cross",
   "metadata": {
    "ExecuteTime": {
     "end_time": "2023-12-11T15:35:14.542142Z",
     "start_time": "2023-12-11T15:35:12.696836Z"
    }
   },
   "outputs": [],
   "source": [
    "cancer_types, doids = download_or_load_do_cancers()\n",
    "\n",
    "# reduce the cancer type hierachy to just two levels\n",
    "do_flat_mapping = load_do_flat_mapping()\n",
    "cancer_types, doids = apply_do_flat_mapping_to_ontology(cancer_types, doids, do_flat_mapping)\n",
    "\n",
    "normalizer = PrecisionOncologyNormalizer(enable_warnings=False).fit(cancer_types, doids)"
   ]
  },
  {
   "cell_type": "markdown",
   "id": "bibliographic-front",
   "metadata": {},
   "source": [
    "Now, we can evaluate it using the provided provided gold standards."
   ]
  },
  {
   "cell_type": "code",
   "execution_count": 66,
   "id": "sized-parallel",
   "metadata": {
    "ExecuteTime": {
     "end_time": "2023-12-11T15:35:14.546676Z",
     "start_time": "2023-12-11T15:35:14.543384Z"
    }
   },
   "outputs": [],
   "source": [
    "goldstandards = [\n",
    "    (\"database\", load_database_cancer_goldstandard),\n",
    "    (\"ncbi\", load_ncbi_cancer_goldstandard)\n",
    "]"
   ]
  },
  {
   "cell_type": "code",
   "execution_count": 67,
   "id": "mighty-damages",
   "metadata": {
    "ExecuteTime": {
     "end_time": "2023-12-11T15:35:40.058488Z",
     "start_time": "2023-12-11T15:35:14.545961Z"
    }
   },
   "outputs": [
    {
     "name": "stdout",
     "output_type": "stream",
     "text": [
      "database: f1_score=0.9461077844311376\n",
      "ncbi: f1_score=0.7432432432432433\n"
     ]
    }
   ],
   "source": [
    "for dataset_name, load_dataset in goldstandards:\n",
    "    cancer_types, doids, _ = load_dataset()\n",
    "    \n",
    "    # reduce cancer type hierachy in gold standard as well\n",
    "    cancer_types, doids = apply_do_flat_mapping_to_goldstandard(cancer_types, doids, do_flat_mapping)\n",
    "    \n",
    "    df_eval = normalizer.evaluate(cancer_types, doids, n_grams=3)\n",
    "    print(f\"{dataset_name}: f1_score={f1_score(df_eval)}\")"
   ]
  },
  {
   "cell_type": "markdown",
   "id": "aging-humanitarian",
   "metadata": {},
   "source": [
    "# User Search\n",
    "Going on, we demonstrate how to use preon to search for cancer types."
   ]
  },
  {
   "cell_type": "code",
   "execution_count": 68,
   "outputs": [],
   "source": [
    "# print warnings (default)\n",
    "logging.captureWarnings(False)"
   ],
   "metadata": {
    "collapsed": false,
    "ExecuteTime": {
     "end_time": "2023-12-11T15:35:40.058621Z",
     "start_time": "2023-12-11T15:35:40.055895Z"
    }
   },
   "id": "23dd83c61d4b1ec5"
  },
  {
   "cell_type": "code",
   "execution_count": 69,
   "outputs": [],
   "source": [
    "cancer_types, doids = download_or_load_do_cancers()\n",
    "\n",
    "# reduce the cancer type hierachy to just two levels\n",
    "do_flat_mapping = load_do_flat_mapping()\n",
    "cancer_types, doids = apply_do_flat_mapping_to_ontology(cancer_types, doids, do_flat_mapping)\n",
    "\n",
    "normalizer = PrecisionOncologyNormalizer().fit(cancer_types, doids)"
   ],
   "metadata": {
    "collapsed": false,
    "ExecuteTime": {
     "end_time": "2023-12-11T15:35:41.751209Z",
     "start_time": "2023-12-11T15:35:40.058101Z"
    }
   },
   "id": "f6167e6372665544"
  },
  {
   "cell_type": "code",
   "execution_count": 70,
   "id": "mechanical-circus",
   "metadata": {
    "ExecuteTime": {
     "end_time": "2023-12-11T15:35:41.756047Z",
     "start_time": "2023-12-11T15:35:41.752032Z"
    }
   },
   "outputs": [
    {
     "data": {
      "text/plain": "(['carcinoma'], [['DOID:0050687', 'DOID:305']], {'match_type': 'exact'})"
     },
     "execution_count": 70,
     "metadata": {},
     "output_type": "execute_result"
    }
   ],
   "source": [
    "normalizer.query(\"Carcinoma\")"
   ]
  },
  {
   "cell_type": "markdown",
   "id": "rubber-strand",
   "metadata": {},
   "source": [
    "We can simply search for cancer types and retrieve their DOIDs by quering the normalizer. As a result for our query, we get list of matching normalized cancer types (in this case ['carcinoma']), a list of associated DOIDS for every returned cancer type [['DOID:0050687', 'DOID:305']] and some meta information about the matching {'match_type': 'exact'}. We can also search for multi-token cancer types like \"adrenal carcinoma treatment and causes\" and find DOIDs for the relevant tokens."
   ]
  },
  {
   "cell_type": "code",
   "execution_count": 71,
   "id": "central-domestic",
   "metadata": {
    "ExecuteTime": {
     "end_time": "2023-12-11T15:35:41.757338Z",
     "start_time": "2023-12-11T15:35:41.754994Z"
    }
   },
   "outputs": [
    {
     "data": {
      "text/plain": "(['carcinoma', 'sarcoma'],\n [['DOID:0050687', 'DOID:305'], ['DOID:0050687', 'DOID:1115']],\n {'match_type': 'substring'})"
     },
     "execution_count": 71,
     "metadata": {},
     "output_type": "execute_result"
    }
   ],
   "source": [
    "normalizer.query(\"adrenal carcinoma or bladder sarcoma treatment and causes\")"
   ]
  },
  {
   "cell_type": "markdown",
   "id": "compressed-habitat",
   "metadata": {},
   "source": [
    "We find the relevant cancer types ['carcinoma', 'sarcoma'] and preon provides the meta information that the matching is based on substrings. On default, preon only looks for 1 matching token. It can also look for n-grams by setting the n_grams parameter in the query method. Let's take a harder example, say \"mesenchymal cell neoplasm\", but misspell it as \"mesenchimal zell neoplasm\"."
   ]
  },
  {
   "cell_type": "code",
   "execution_count": 72,
   "id": "stone-walter",
   "metadata": {
    "ExecuteTime": {
     "end_time": "2023-12-11T15:35:41.801314Z",
     "start_time": "2023-12-11T15:35:41.780102Z"
    }
   },
   "outputs": [
    {
     "data": {
      "text/plain": "(['mesenchymalcellneoplasm'],\n [['DOID:0050687', 'DOID:3350']],\n {'match_type': 'partial', 'edit_distance': 0.087})"
     },
     "execution_count": 72,
     "metadata": {},
     "output_type": "execute_result"
    }
   ],
   "source": [
    "normalizer.query(\"mesenchimal zell neoplasm\")"
   ]
  },
  {
   "cell_type": "markdown",
   "id": "colonial-village",
   "metadata": {},
   "source": [
    "preon finds the correct cancer type \"mesenchymal cell neoplasm\" and provides the meta information that it is a partial match with 8.7% distance. It returns drug names with a distance smaller than 20% on default. In order to change this parameter, set the threshold argument in the query method."
   ]
  },
  {
   "cell_type": "code",
   "execution_count": 73,
   "outputs": [
    {
     "name": "stderr",
     "output_type": "stream",
     "text": [
      "/Users/ermshaua/Documents/Git/public/preon/preon/normalization.py:50: UserWarning: Cannot match cell type cancer bladder to reference data. Try changing the partial matching threshold or number of n-grams.\n",
      "  warnings.warn(\n"
     ]
    }
   ],
   "source": [
    "normalizer.query(\"cell type cancer bladder\")"
   ],
   "metadata": {
    "collapsed": false,
    "ExecuteTime": {
     "end_time": "2023-12-11T15:35:41.805899Z",
     "start_time": "2023-12-11T15:35:41.804121Z"
    }
   },
   "id": "5782b9680191201a"
  },
  {
   "cell_type": "markdown",
   "source": [
    "If preon cannot find a match, it warns the user and suggests hyper-parameter changes. In this case, we increase the number of n-grams to 3 and get a valid result."
   ],
   "metadata": {
    "collapsed": false
   },
   "id": "2a7b3b013c9fc16f"
  },
  {
   "cell_type": "code",
   "execution_count": 74,
   "outputs": [
    {
     "data": {
      "text/plain": "(['celltypecancer'], [['DOID:0050687']], {'match_type': 'substring'})"
     },
     "execution_count": 74,
     "metadata": {},
     "output_type": "execute_result"
    }
   ],
   "source": [
    "normalizer.query(\"cell type cancer bladder\", n_grams=3)"
   ],
   "metadata": {
    "collapsed": false,
    "ExecuteTime": {
     "end_time": "2023-12-11T15:35:41.810206Z",
     "start_time": "2023-12-11T15:35:41.808335Z"
    }
   },
   "id": "7a55b64a4ccaa189"
  },
  {
   "cell_type": "markdown",
   "id": "suspected-blanket",
   "metadata": {},
   "source": [
    "# Data Integration\n",
    "We use preon in the PREDICT project to integrate cancer types from different sources. Going on, we provide an overview how to do so. For this example, we write issued warnings to a log file for inspection."
   ]
  },
  {
   "cell_type": "code",
   "execution_count": 75,
   "outputs": [],
   "source": [
    "# store warnings in file\n",
    "logging.basicConfig(filename='warnings.log', level=logging.WARNING)\n",
    "logging.captureWarnings(True)"
   ],
   "metadata": {
    "collapsed": false,
    "ExecuteTime": {
     "end_time": "2023-12-11T15:35:41.813773Z",
     "start_time": "2023-12-11T15:35:41.810575Z"
    }
   },
   "id": "ae0468c8c172d53"
  },
  {
   "cell_type": "code",
   "execution_count": 76,
   "outputs": [],
   "source": [
    "cancer_types, doids = download_or_load_do_cancers()\n",
    "\n",
    "# reduce the cancer type hierachy to just two levels\n",
    "do_flat_mapping = load_do_flat_mapping()\n",
    "cancer_types, doids = apply_do_flat_mapping_to_ontology(cancer_types, doids, do_flat_mapping)\n",
    "\n",
    "normalizer = PrecisionOncologyNormalizer().fit(cancer_types, doids)"
   ],
   "metadata": {
    "collapsed": false,
    "ExecuteTime": {
     "end_time": "2023-12-11T15:35:43.592643Z",
     "start_time": "2023-12-11T15:35:41.812995Z"
    }
   },
   "id": "970c94631118be09"
  },
  {
   "cell_type": "code",
   "execution_count": 77,
   "id": "competitive-daniel",
   "metadata": {
    "ExecuteTime": {
     "end_time": "2023-12-11T15:35:43.643355Z",
     "start_time": "2023-12-11T15:35:43.592775Z"
    }
   },
   "outputs": [],
   "source": [
    "db_names, _, _ = load_database_cancer_goldstandard()\n",
    "ncbi_names, _, _ = load_ncbi_cancer_goldstandard()"
   ]
  },
  {
   "cell_type": "markdown",
   "id": "provincial-anaheim",
   "metadata": {},
   "source": [
    "Let's say we wanted to integrate the drug names from the database and ncbi gold standards. We would normalize both lists of names and join on the returned CHEMBL ids."
   ]
  },
  {
   "cell_type": "code",
   "execution_count": 78,
   "id": "exceptional-sight",
   "metadata": {
    "ExecuteTime": {
     "end_time": "2023-12-11T15:35:44.602497Z",
     "start_time": "2023-12-11T15:35:43.650177Z"
    }
   },
   "outputs": [
    {
     "data": {
      "text/plain": "                       Name             Found Names  \\\n0                      ADCC                      []   \n1                        FH                      []   \n2                       LIP                      []   \n3                      PLEN                      []   \n4                        RA                      []   \n..                      ...                     ...   \n128  Acute Myeloid Leukemia  [acutemyeloidleukemia]   \n129                     CRC                      []   \n130       Colorectal Cancer      [colorectalcancer]   \n131        Multiple myeloma       [multiplemyeloma]   \n132        multiple myeloma       [multiplemyeloma]   \n\n                  Found Name IDs Match Type  Edit Distance  Query Time  \n0                       [[None]]       none            NaN    0.007046  \n1                       [[None]]       none            NaN    0.004465  \n2                       [[None]]       none            NaN    0.005546  \n3                       [[None]]       none            NaN    0.006043  \n4                       [[None]]       none            NaN    0.004501  \n..                           ...        ...            ...         ...  \n128  [[DOID:0050686, DOID:2531]]      exact            NaN    0.000009  \n129                     [[None]]       none            NaN    0.005004  \n130  [[DOID:0050686, DOID:3119]]      exact            NaN    0.000011  \n131  [[DOID:0050686, DOID:2531]]      exact            NaN    0.000008  \n132  [[DOID:0050686, DOID:2531]]      exact            NaN    0.000007  \n\n[133 rows x 6 columns]",
      "text/html": "<div>\n<style scoped>\n    .dataframe tbody tr th:only-of-type {\n        vertical-align: middle;\n    }\n\n    .dataframe tbody tr th {\n        vertical-align: top;\n    }\n\n    .dataframe thead th {\n        text-align: right;\n    }\n</style>\n<table border=\"1\" class=\"dataframe\">\n  <thead>\n    <tr style=\"text-align: right;\">\n      <th></th>\n      <th>Name</th>\n      <th>Found Names</th>\n      <th>Found Name IDs</th>\n      <th>Match Type</th>\n      <th>Edit Distance</th>\n      <th>Query Time</th>\n    </tr>\n  </thead>\n  <tbody>\n    <tr>\n      <th>0</th>\n      <td>ADCC</td>\n      <td>[]</td>\n      <td>[[None]]</td>\n      <td>none</td>\n      <td>NaN</td>\n      <td>0.007046</td>\n    </tr>\n    <tr>\n      <th>1</th>\n      <td>FH</td>\n      <td>[]</td>\n      <td>[[None]]</td>\n      <td>none</td>\n      <td>NaN</td>\n      <td>0.004465</td>\n    </tr>\n    <tr>\n      <th>2</th>\n      <td>LIP</td>\n      <td>[]</td>\n      <td>[[None]]</td>\n      <td>none</td>\n      <td>NaN</td>\n      <td>0.005546</td>\n    </tr>\n    <tr>\n      <th>3</th>\n      <td>PLEN</td>\n      <td>[]</td>\n      <td>[[None]]</td>\n      <td>none</td>\n      <td>NaN</td>\n      <td>0.006043</td>\n    </tr>\n    <tr>\n      <th>4</th>\n      <td>RA</td>\n      <td>[]</td>\n      <td>[[None]]</td>\n      <td>none</td>\n      <td>NaN</td>\n      <td>0.004501</td>\n    </tr>\n    <tr>\n      <th>...</th>\n      <td>...</td>\n      <td>...</td>\n      <td>...</td>\n      <td>...</td>\n      <td>...</td>\n      <td>...</td>\n    </tr>\n    <tr>\n      <th>128</th>\n      <td>Acute Myeloid Leukemia</td>\n      <td>[acutemyeloidleukemia]</td>\n      <td>[[DOID:0050686, DOID:2531]]</td>\n      <td>exact</td>\n      <td>NaN</td>\n      <td>0.000009</td>\n    </tr>\n    <tr>\n      <th>129</th>\n      <td>CRC</td>\n      <td>[]</td>\n      <td>[[None]]</td>\n      <td>none</td>\n      <td>NaN</td>\n      <td>0.005004</td>\n    </tr>\n    <tr>\n      <th>130</th>\n      <td>Colorectal Cancer</td>\n      <td>[colorectalcancer]</td>\n      <td>[[DOID:0050686, DOID:3119]]</td>\n      <td>exact</td>\n      <td>NaN</td>\n      <td>0.000011</td>\n    </tr>\n    <tr>\n      <th>131</th>\n      <td>Multiple myeloma</td>\n      <td>[multiplemyeloma]</td>\n      <td>[[DOID:0050686, DOID:2531]]</td>\n      <td>exact</td>\n      <td>NaN</td>\n      <td>0.000008</td>\n    </tr>\n    <tr>\n      <th>132</th>\n      <td>multiple myeloma</td>\n      <td>[multiplemyeloma]</td>\n      <td>[[DOID:0050686, DOID:2531]]</td>\n      <td>exact</td>\n      <td>NaN</td>\n      <td>0.000007</td>\n    </tr>\n  </tbody>\n</table>\n<p>133 rows × 6 columns</p>\n</div>"
     },
     "execution_count": 78,
     "metadata": {},
     "output_type": "execute_result"
    }
   ],
   "source": [
    "normalizer.transform(db_names)"
   ]
  },
  {
   "cell_type": "markdown",
   "id": "natural-place",
   "metadata": {},
   "source": [
    "Using the transform method, preon returns a comprehensive pandas dataframe that contains the corresponding annotations. Let's normalize the cancer types from both gold standards."
   ]
  },
  {
   "cell_type": "code",
   "execution_count": 79,
   "id": "chubby-induction",
   "metadata": {
    "ExecuteTime": {
     "end_time": "2023-12-11T15:36:10.278996Z",
     "start_time": "2023-12-11T15:35:44.625567Z"
    }
   },
   "outputs": [],
   "source": [
    "db_df = normalizer.transform(db_names)\n",
    "db_df[\"Found Name IDs\"] = db_df[\"Found Name IDs\"].apply(dp.flatten).apply(lambda ids: ids[0])\n",
    "\n",
    "ncbi_df = normalizer.transform(ncbi_names)\n",
    "ncbi_df[\"Found Name IDs\"] = ncbi_df[\"Found Name IDs\"].apply(dp.flatten).apply(lambda ids: ids[0])"
   ]
  },
  {
   "cell_type": "markdown",
   "id": "impossible-victoria",
   "metadata": {},
   "source": [
    "We can now extract and relate the query cancer types with the found CHEMBL ids from both sources. "
   ]
  },
  {
   "cell_type": "code",
   "execution_count": 80,
   "id": "printable-wealth",
   "metadata": {
    "ExecuteTime": {
     "end_time": "2023-12-11T15:36:10.283123Z",
     "start_time": "2023-12-11T15:36:10.279594Z"
    }
   },
   "outputs": [],
   "source": [
    "db_names, db_ids = db_df.Name.tolist(), db_df[\"Found Name IDs\"].tolist()\n",
    "ncbi_names, ncbi_ids = ncbi_df.Name.tolist(), ncbi_df[\"Found Name IDs\"].tolist()"
   ]
  }
 ],
 "metadata": {
  "kernelspec": {
   "display_name": "Python 3",
   "language": "python",
   "name": "python3"
  },
  "language_info": {
   "codemirror_mode": {
    "name": "ipython",
    "version": 3
   },
   "file_extension": ".py",
   "mimetype": "text/x-python",
   "name": "python",
   "nbconvert_exporter": "python",
   "pygments_lexer": "ipython3",
   "version": "3.8.8"
  }
 },
 "nbformat": 4,
 "nbformat_minor": 5
}
