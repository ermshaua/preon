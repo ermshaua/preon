{
 "cells": [
  {
   "cell_type": "markdown",
   "id": "reduced-economy",
   "metadata": {},
   "source": [
    "# Cancer Type Normalization\n",
    "In this notebook, we evaluate our normalizer with two cancer type gold standards and present two usecases."
   ]
  },
  {
   "cell_type": "code",
   "execution_count": 1,
   "id": "native-jurisdiction",
   "metadata": {},
   "outputs": [],
   "source": [
    "import sys\n",
    "sys.path.append('../../')"
   ]
  },
  {
   "cell_type": "code",
   "execution_count": 2,
   "id": "figured-parish",
   "metadata": {},
   "outputs": [],
   "source": [
    "from preon.normalization import PrecisionOncologyNormalizer\n",
    "from preon.cancer import download_or_load_do_cancers, load_do_flat_mapping, apply_do_flat_mapping_to_ontology, apply_do_flat_mapping_to_goldstandard, \\\n",
    "    load_database_cancer_goldstandard, load_ncbi_cancer_goldstandard\n",
    "from preon.tests.utils import f1_score"
   ]
  },
  {
   "cell_type": "code",
   "execution_count": 3,
   "id": "younger-opinion",
   "metadata": {},
   "outputs": [],
   "source": [
    "import pandas as pd\n",
    "import daproli as dp"
   ]
  },
  {
   "cell_type": "markdown",
   "id": "lovely-emergency",
   "metadata": {},
   "source": [
    "Let's first load the reference cancer types from Disease Ontology and fit the normalizer."
   ]
  },
  {
   "cell_type": "code",
   "execution_count": 4,
   "id": "pediatric-cross",
   "metadata": {},
   "outputs": [],
   "source": [
    "cancer_types, doids = download_or_load_do_cancers()\n",
    "\n",
    "# reduce the cancer type hierachy to just two levels\n",
    "do_flat_mapping = load_do_flat_mapping()\n",
    "cancer_types, doids = apply_do_flat_mapping_to_ontology(cancer_types, doids, do_flat_mapping)\n",
    "\n",
    "normalizer = PrecisionOncologyNormalizer().fit(cancer_types, doids)"
   ]
  },
  {
   "cell_type": "markdown",
   "id": "bibliographic-front",
   "metadata": {},
   "source": [
    "Now, we can evaluate it using the provided provided gold standards."
   ]
  },
  {
   "cell_type": "code",
   "execution_count": 5,
   "id": "sized-parallel",
   "metadata": {},
   "outputs": [],
   "source": [
    "goldstandards = [\n",
    "    (\"database\", load_database_cancer_goldstandard),\n",
    "    (\"ncbi\", load_ncbi_cancer_goldstandard)\n",
    "]"
   ]
  },
  {
   "cell_type": "code",
   "execution_count": 6,
   "id": "mighty-damages",
   "metadata": {},
   "outputs": [
    {
     "name": "stdout",
     "output_type": "stream",
     "text": [
      "database: f1_score=0.934131736526946\n",
      "ncbi: f1_score=0.8208955223880596\n"
     ]
    }
   ],
   "source": [
    "for dataset_name, load_dataset in goldstandards:\n",
    "    cancer_types, doids = load_dataset()\n",
    "    \n",
    "    # reduce cancer type hierachy in gold standard as well\n",
    "    cancer_types, doids = apply_do_flat_mapping_to_goldstandard(cancer_types, doids, do_flat_mapping)\n",
    "    \n",
    "    df_eval = normalizer.evaluate(cancer_types, doids, n_grams=3)\n",
    "    print(f\"{dataset_name}: f1_score={f1_score(df_eval)}\")"
   ]
  },
  {
   "cell_type": "markdown",
   "id": "aging-humanitarian",
   "metadata": {},
   "source": [
    "# User Search\n",
    "Going on, we demonstrate how to use preon to search for cancer types."
   ]
  },
  {
   "cell_type": "code",
   "execution_count": 7,
   "id": "mechanical-circus",
   "metadata": {},
   "outputs": [
    {
     "data": {
      "text/plain": [
       "(['carcinoma'], [['DOID:0050687', 'DOID:305']], {'match_type': 'exact'})"
      ]
     },
     "execution_count": 7,
     "metadata": {},
     "output_type": "execute_result"
    }
   ],
   "source": [
    "normalizer.query(\"Carcinoma\")"
   ]
  },
  {
   "cell_type": "markdown",
   "id": "rubber-strand",
   "metadata": {},
   "source": [
    "We can simply search for cancer types and retrieve their DOIDs by quering the normalizer. As a result for our query, we get list of matching normalized cancer types (in this case ['carcinoma']), a list of associated DOIDS for every returned cancer type [['DOID:0050687', 'DOID:305']] and some meta information about the matching {'match_type': 'exact'}. We can also search for multi-token cancer types like \"adrenal carcinoma treatment and causes\" and find DOIDs for the relevant tokens."
   ]
  },
  {
   "cell_type": "code",
   "execution_count": 8,
   "id": "central-domestic",
   "metadata": {},
   "outputs": [
    {
     "data": {
      "text/plain": [
       "(['carcinoma', 'sarcoma'],\n",
       " [['DOID:0050687', 'DOID:305'], ['DOID:0050687', 'DOID:1115']],\n",
       " {'match_type': 'substring'})"
      ]
     },
     "execution_count": 8,
     "metadata": {},
     "output_type": "execute_result"
    }
   ],
   "source": [
    "normalizer.query(\"adrenal carcinoma or bladder sarcoma treatment and causes\")"
   ]
  },
  {
   "cell_type": "markdown",
   "id": "compressed-habitat",
   "metadata": {},
   "source": [
    "We find the relevant cancer types ['carcinoma', 'sarcoma'] and preon provides the meta information that the matching is based on substrings. On default, preon only looks for 1 matching token. It can also look for n-grams by setting the n_grams parameter in the query method. Let's take a harder example, say \"mesenchymal cell neoplasm\", but misspell it as \"mesenchimal zell neoplasm\"."
   ]
  },
  {
   "cell_type": "code",
   "execution_count": 9,
   "id": "stone-walter",
   "metadata": {},
   "outputs": [
    {
     "data": {
      "text/plain": [
       "(['mesenchymalcellneoplasm'],\n",
       " [['DOID:0050687', 'DOID:3350']],\n",
       " {'match_type': 'partial', 'edit_distance': 0.08695652173913043})"
      ]
     },
     "execution_count": 9,
     "metadata": {},
     "output_type": "execute_result"
    }
   ],
   "source": [
    "normalizer.query(\"mesenchimal zell neoplasm\", n_grams=2)"
   ]
  },
  {
   "cell_type": "markdown",
   "id": "colonial-village",
   "metadata": {},
   "source": [
    "preon finds the correct cancer type \"mesenchymal cell neoplasm\" and provides the meta information that it is a partial match with 8.7% distance. It returns drug names with a distance smaller than 20% on default. In order to change this parameter, set the threshold argument in the query method."
   ]
  },
  {
   "cell_type": "markdown",
   "id": "suspected-blanket",
   "metadata": {},
   "source": [
    "# Data Integration\n",
    "We use preon in the PREDICT project to integrate cancer types from different sources. Going on, we provide an overview how to do so."
   ]
  },
  {
   "cell_type": "code",
   "execution_count": 10,
   "id": "competitive-daniel",
   "metadata": {},
   "outputs": [],
   "source": [
    "db_names, _ = load_database_cancer_goldstandard()\n",
    "ncbi_names, _ = load_ncbi_cancer_goldstandard()"
   ]
  },
  {
   "cell_type": "markdown",
   "id": "provincial-anaheim",
   "metadata": {},
   "source": [
    "Let's say we wanted to integrate the drug names from the database and ncbi gold standards. We would normalize both lists of names and join on the returned CHEMBL ids."
   ]
  },
  {
   "cell_type": "code",
   "execution_count": 11,
   "id": "exceptional-sight",
   "metadata": {},
   "outputs": [
    {
     "data": {
      "text/html": [
       "<div>\n",
       "<style scoped>\n",
       "    .dataframe tbody tr th:only-of-type {\n",
       "        vertical-align: middle;\n",
       "    }\n",
       "\n",
       "    .dataframe tbody tr th {\n",
       "        vertical-align: top;\n",
       "    }\n",
       "\n",
       "    .dataframe thead th {\n",
       "        text-align: right;\n",
       "    }\n",
       "</style>\n",
       "<table border=\"1\" class=\"dataframe\">\n",
       "  <thead>\n",
       "    <tr style=\"text-align: right;\">\n",
       "      <th></th>\n",
       "      <th>Name</th>\n",
       "      <th>Found Names</th>\n",
       "      <th>Found Name IDs</th>\n",
       "      <th>Match Type</th>\n",
       "      <th>Edit Distance</th>\n",
       "      <th>Query Time</th>\n",
       "    </tr>\n",
       "  </thead>\n",
       "  <tbody>\n",
       "    <tr>\n",
       "      <th>0</th>\n",
       "      <td>Multiple myeloma</td>\n",
       "      <td>[multiplemyeloma]</td>\n",
       "      <td>[[DOID:0050686, DOID:2531]]</td>\n",
       "      <td>exact</td>\n",
       "      <td>NaN</td>\n",
       "      <td>0.000303</td>\n",
       "    </tr>\n",
       "    <tr>\n",
       "      <th>1</th>\n",
       "      <td>Medulloblastoma</td>\n",
       "      <td>[medulloblastoma]</td>\n",
       "      <td>[[DOID:0050686, DOID:3093]]</td>\n",
       "      <td>exact</td>\n",
       "      <td>NaN</td>\n",
       "      <td>0.000190</td>\n",
       "    </tr>\n",
       "    <tr>\n",
       "      <th>2</th>\n",
       "      <td>Mantle cell lymphoma</td>\n",
       "      <td>[mantlecelllymphoma]</td>\n",
       "      <td>[[DOID:0050686, DOID:0060083, DOID:2531]]</td>\n",
       "      <td>exact</td>\n",
       "      <td>NaN</td>\n",
       "      <td>0.000511</td>\n",
       "    </tr>\n",
       "    <tr>\n",
       "      <th>3</th>\n",
       "      <td>multiple myeloma</td>\n",
       "      <td>[multiplemyeloma]</td>\n",
       "      <td>[[DOID:0050686, DOID:2531]]</td>\n",
       "      <td>exact</td>\n",
       "      <td>NaN</td>\n",
       "      <td>0.000796</td>\n",
       "    </tr>\n",
       "    <tr>\n",
       "      <th>4</th>\n",
       "      <td>Colorectal Cancer</td>\n",
       "      <td>[colorectalcancer]</td>\n",
       "      <td>[[DOID:0050686, DOID:3119]]</td>\n",
       "      <td>exact</td>\n",
       "      <td>NaN</td>\n",
       "      <td>0.000097</td>\n",
       "    </tr>\n",
       "    <tr>\n",
       "      <th>...</th>\n",
       "      <td>...</td>\n",
       "      <td>...</td>\n",
       "      <td>...</td>\n",
       "      <td>...</td>\n",
       "      <td>...</td>\n",
       "      <td>...</td>\n",
       "    </tr>\n",
       "    <tr>\n",
       "      <th>128</th>\n",
       "      <td>Thrombotic Thrombocytopenic Purpura (TTP)</td>\n",
       "      <td>[]</td>\n",
       "      <td>[[None]]</td>\n",
       "      <td>none</td>\n",
       "      <td>NaN</td>\n",
       "      <td>0.012495</td>\n",
       "    </tr>\n",
       "    <tr>\n",
       "      <th>129</th>\n",
       "      <td>Vasodilatory Shock</td>\n",
       "      <td>[]</td>\n",
       "      <td>[[None]]</td>\n",
       "      <td>none</td>\n",
       "      <td>NaN</td>\n",
       "      <td>0.007559</td>\n",
       "    </tr>\n",
       "    <tr>\n",
       "      <th>130</th>\n",
       "      <td>All Tumors</td>\n",
       "      <td>[all]</td>\n",
       "      <td>[[DOID:0050686, DOID:2531]]</td>\n",
       "      <td>substring</td>\n",
       "      <td>NaN</td>\n",
       "      <td>0.000078</td>\n",
       "    </tr>\n",
       "    <tr>\n",
       "      <th>131</th>\n",
       "      <td>Anemia</td>\n",
       "      <td>[]</td>\n",
       "      <td>[[None]]</td>\n",
       "      <td>none</td>\n",
       "      <td>NaN</td>\n",
       "      <td>0.005533</td>\n",
       "    </tr>\n",
       "    <tr>\n",
       "      <th>132</th>\n",
       "      <td>NOS</td>\n",
       "      <td>[]</td>\n",
       "      <td>[[None]]</td>\n",
       "      <td>none</td>\n",
       "      <td>NaN</td>\n",
       "      <td>0.004310</td>\n",
       "    </tr>\n",
       "  </tbody>\n",
       "</table>\n",
       "<p>133 rows × 6 columns</p>\n",
       "</div>"
      ],
      "text/plain": [
       "                                          Name           Found Names  \\\n",
       "0                             Multiple myeloma     [multiplemyeloma]   \n",
       "1                              Medulloblastoma     [medulloblastoma]   \n",
       "2                         Mantle cell lymphoma  [mantlecelllymphoma]   \n",
       "3                             multiple myeloma     [multiplemyeloma]   \n",
       "4                            Colorectal Cancer    [colorectalcancer]   \n",
       "..                                         ...                   ...   \n",
       "128  Thrombotic Thrombocytopenic Purpura (TTP)                    []   \n",
       "129                         Vasodilatory Shock                    []   \n",
       "130                                 All Tumors                 [all]   \n",
       "131                                     Anemia                    []   \n",
       "132                                        NOS                    []   \n",
       "\n",
       "                                Found Name IDs Match Type  Edit Distance  \\\n",
       "0                  [[DOID:0050686, DOID:2531]]      exact            NaN   \n",
       "1                  [[DOID:0050686, DOID:3093]]      exact            NaN   \n",
       "2    [[DOID:0050686, DOID:0060083, DOID:2531]]      exact            NaN   \n",
       "3                  [[DOID:0050686, DOID:2531]]      exact            NaN   \n",
       "4                  [[DOID:0050686, DOID:3119]]      exact            NaN   \n",
       "..                                         ...        ...            ...   \n",
       "128                                   [[None]]       none            NaN   \n",
       "129                                   [[None]]       none            NaN   \n",
       "130                [[DOID:0050686, DOID:2531]]  substring            NaN   \n",
       "131                                   [[None]]       none            NaN   \n",
       "132                                   [[None]]       none            NaN   \n",
       "\n",
       "     Query Time  \n",
       "0      0.000303  \n",
       "1      0.000190  \n",
       "2      0.000511  \n",
       "3      0.000796  \n",
       "4      0.000097  \n",
       "..          ...  \n",
       "128    0.012495  \n",
       "129    0.007559  \n",
       "130    0.000078  \n",
       "131    0.005533  \n",
       "132    0.004310  \n",
       "\n",
       "[133 rows x 6 columns]"
      ]
     },
     "execution_count": 11,
     "metadata": {},
     "output_type": "execute_result"
    }
   ],
   "source": [
    "normalizer.transform(db_names)"
   ]
  },
  {
   "cell_type": "markdown",
   "id": "natural-place",
   "metadata": {},
   "source": [
    "Using the transform method, preon returns a comprehensive pandas dataframe that contains the corresponding annotations. Let's normalize the cancer types from both gold standards."
   ]
  },
  {
   "cell_type": "code",
   "execution_count": 12,
   "id": "chubby-induction",
   "metadata": {},
   "outputs": [],
   "source": [
    "db_df = normalizer.transform(db_names)\n",
    "db_df[\"Found Name IDs\"] = db_df[\"Found Name IDs\"].apply(dp.flatten).apply(lambda ids: ids[0])\n",
    "\n",
    "ncbi_df = normalizer.transform(ncbi_names)\n",
    "ncbi_df[\"Found Name IDs\"] = ncbi_df[\"Found Name IDs\"].apply(dp.flatten).apply(lambda ids: ids[0])"
   ]
  },
  {
   "cell_type": "markdown",
   "id": "impossible-victoria",
   "metadata": {},
   "source": [
    "We can now extract and relate the query cancer types with the found CHEMBL ids from both sources. "
   ]
  },
  {
   "cell_type": "code",
   "execution_count": 13,
   "id": "printable-wealth",
   "metadata": {},
   "outputs": [],
   "source": [
    "db_names, db_ids = db_df.Name.tolist(), db_df[\"Found Name IDs\"].tolist()\n",
    "ncbi_names, ncbi_ids = ncbi_df.Name.tolist(), ncbi_df[\"Found Name IDs\"].tolist()"
   ]
  }
 ],
 "metadata": {
  "kernelspec": {
   "display_name": "Python 3",
   "language": "python",
   "name": "python3"
  },
  "language_info": {
   "codemirror_mode": {
    "name": "ipython",
    "version": 3
   },
   "file_extension": ".py",
   "mimetype": "text/x-python",
   "name": "python",
   "nbconvert_exporter": "python",
   "pygments_lexer": "ipython3",
   "version": "3.8.8"
  }
 },
 "nbformat": 4,
 "nbformat_minor": 5
}
