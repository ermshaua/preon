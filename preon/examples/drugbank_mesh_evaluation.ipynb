{
 "cells": [
  {
   "cell_type": "markdown",
   "id": "reduced-economy",
   "metadata": {},
   "source": [
    "# DrugBank and MeSH Normalization\n",
    "In this notebook, we evaluate our normalizer with the two refwerence data bases DrugBank and NCBI MeSH."
   ]
  },
  {
   "cell_type": "code",
   "execution_count": 1,
   "id": "native-jurisdiction",
   "metadata": {},
   "outputs": [],
   "source": [
    "import sys\n",
    "sys.path.append('../../')"
   ]
  },
  {
   "cell_type": "code",
   "execution_count": 2,
   "id": "figured-parish",
   "metadata": {},
   "outputs": [
    {
     "name": "stdout",
     "output_type": "stream",
     "text": [
      "['Abdominal Neoplasms', 'Plasmablastic Lymphoma', 'Mammary Analogue Secretory Carcinoma', 'Unilateral Breast Neoplasms', 'Giant Cell Tumor of Tendon Sheath']\n",
      "['MESH:D000008', 'MESH:D000069293', 'MESH:D000069295', 'MESH:D000069584', 'MESH:D000070779']\n"
     ]
    }
   ],
   "source": [
    "from preon.normalization import PrecisionOncologyNormalizer\n",
    "from preon.drug import load_drugbank_drugs, load_charite_drug_goldstandard, load_database_drug_goldstandard, load_ctg_drug_goldstandard\n",
    "from preon.cancer import download_or_load_mesh_cancers, load_database_cancer_goldstandard, load_ncbi_cancer_goldstandard\n",
    "from preon.tests.utils import precision_score, recall_score, f1_score"
   ]
  },
  {
   "cell_type": "code",
   "execution_count": 3,
   "id": "younger-opinion",
   "metadata": {},
   "outputs": [],
   "source": [
    "import numpy as np\n",
    "import pandas as pd\n",
    "import daproli as dp"
   ]
  },
  {
   "cell_type": "markdown",
   "id": "7a181e01",
   "metadata": {},
   "source": [
    "Let's first load the reference drug names from DrugBank and fit the normalizer."
   ]
  },
  {
   "cell_type": "code",
   "execution_count": 4,
   "id": "fd13acb3",
   "metadata": {},
   "outputs": [],
   "source": [
    "drug_names, db_ids = load_drugbank_drugs()\n",
    "normalizer = PrecisionOncologyNormalizer().fit(drug_names, db_ids)"
   ]
  },
  {
   "cell_type": "markdown",
   "id": "ad4bd91f",
   "metadata": {},
   "source": [
    "Now, we can evaluate it using the provided provided gold standards."
   ]
  },
  {
   "cell_type": "code",
   "execution_count": 5,
   "id": "4a6813e0",
   "metadata": {},
   "outputs": [],
   "source": [
    "goldstandards = [\n",
    "    (\"charite\", load_charite_drug_goldstandard),\n",
    "    (\"database\", load_database_drug_goldstandard),\n",
    "    (\"ctg\", load_ctg_drug_goldstandard)\n",
    "]"
   ]
  },
  {
   "cell_type": "code",
   "execution_count": 6,
   "id": "0ab58b3b",
   "metadata": {},
   "outputs": [
    {
     "name": "stdout",
     "output_type": "stream",
     "text": [
      "charite: precision_score=0.97 recall_score=0.76 f1_score=0.85\n",
      "database: precision_score=1.0 recall_score=0.94 f1_score=0.97\n",
      "ctg: precision_score=0.97 recall_score=0.88 f1_score=0.92\n"
     ]
    }
   ],
   "source": [
    "for dataset_name, load_dataset in goldstandards:\n",
    "    drug_names, _, db_ids = load_dataset()\n",
    "    df_eval = normalizer.evaluate(drug_names, db_ids)\n",
    "    print(f\"{dataset_name}: precision_score={np.round(precision_score(df_eval), 2)} recall_score={np.round(recall_score(df_eval), 2)} f1_score={np.round(f1_score(df_eval), 2)}\")"
   ]
  },
  {
   "cell_type": "markdown",
   "id": "lovely-emergency",
   "metadata": {},
   "source": [
    "Let's now load the reference cancer types from NCBI and fit the normalizer."
   ]
  },
  {
   "cell_type": "code",
   "execution_count": 7,
   "id": "pediatric-cross",
   "metadata": {},
   "outputs": [],
   "source": [
    "cancer_types, mesh_ids = download_or_load_mesh_cancers()\n",
    "normalizer = PrecisionOncologyNormalizer().fit(cancer_types, mesh_ids)"
   ]
  },
  {
   "cell_type": "markdown",
   "id": "bibliographic-front",
   "metadata": {},
   "source": [
    "Now, we can evaluate it using the provided provided gold standards."
   ]
  },
  {
   "cell_type": "code",
   "execution_count": 8,
   "id": "sized-parallel",
   "metadata": {},
   "outputs": [],
   "source": [
    "goldstandards = [\n",
    "    (\"database\", load_database_cancer_goldstandard),\n",
    "    (\"ncbi\", load_ncbi_cancer_goldstandard)\n",
    "]"
   ]
  },
  {
   "cell_type": "code",
   "execution_count": 9,
   "id": "mighty-damages",
   "metadata": {},
   "outputs": [
    {
     "name": "stdout",
     "output_type": "stream",
     "text": [
      "database: precision_score=0.36 recall_score=0.57 f1_score=0.44\n",
      "ncbi: precision_score=0.45 recall_score=0.34 f1_score=0.39\n"
     ]
    }
   ],
   "source": [
    "for dataset_name, load_dataset in goldstandards:\n",
    "    cancer_types, _, mesh_ids = load_dataset()\n",
    "    df_eval = normalizer.evaluate(cancer_types, mesh_ids, n_grams=3)\n",
    "    print(f\"{dataset_name}: precision_score={np.round(precision_score(df_eval), 2)} recall_score={np.round(recall_score(df_eval), 2)} f1_score={np.round(f1_score(df_eval), 2)}\")"
   ]
  }
 ],
 "metadata": {
  "kernelspec": {
   "display_name": "Python 3 (ipykernel)",
   "language": "python",
   "name": "python3"
  },
  "language_info": {
   "codemirror_mode": {
    "name": "ipython",
    "version": 3
   },
   "file_extension": ".py",
   "mimetype": "text/x-python",
   "name": "python",
   "nbconvert_exporter": "python",
   "pygments_lexer": "ipython3",
   "version": "3.8.12"
  }
 },
 "nbformat": 4,
 "nbformat_minor": 5
}
